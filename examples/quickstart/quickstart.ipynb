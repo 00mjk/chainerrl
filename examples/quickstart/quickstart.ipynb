{
 "cells": [
  {
   "cell_type": "markdown",
   "metadata": {},
   "source": [
    "# ChainerRL Quickstart Guide\n",
    "\n",
    "This is a quickstart guide for users who just want to try ChainerRL for the first time.\n",
    "\n",
    "If you have not yet installed `chainerrl`, run the command below to install it:\n",
    "```\n",
    "pip install chainerrl\n",
    "```\n",
    "\n",
    "If you have already installed `chainerrl`, let's begin!\n",
    "\n",
    "First, you need to import necessary modules. The module name of ChainerRL is `chainerrl`. Let's import `gym` and `numpy` as well since they are used later."
   ]
  },
  {
   "cell_type": "code",
   "execution_count": null,
   "metadata": {
    "collapsed": true
   },
   "outputs": [],
   "source": [
    "import chainer\n",
    "import chainer.functions as F\n",
    "import chainer.links as L\n",
    "import chainerrl\n",
    "import gym\n",
    "import numpy as np"
   ]
  },
  {
   "cell_type": "markdown",
   "metadata": {},
   "source": [
    "ChainerRL can be used for any problems if they are modeled as \"environments\". An environment must define its observation space and action space and have two methods: `reset` and `step`. OpenAI Gym provides various kinds of environments.\n",
    "\n",
    "Let's try 'CartPole-v0', which is a classic control problem. You can see below that its observation space consists of four real numbers while its action space consists of two discrete actions.\n",
    "\n",
    "Below are the important methods of environments.\n",
    "- `env.reset` will reset the environment to the initial state and return the initial observation.\n",
    "- `env.step` will execute a given action, move to the next state and return four values:\n",
    "  - a next observation\n",
    "  - a scalar reward\n",
    "  - a boolean value that indictes the current state is terminal or not\n",
    "  - additional information\n",
    "- `env.render` will render the current state."
   ]
  },
  {
   "cell_type": "code",
   "execution_count": null,
   "metadata": {
    "collapsed": false
   },
   "outputs": [],
   "source": [
    "env = gym.make('CartPole-v0')\n",
    "print('observation space:', env.observation_space)\n",
    "print('action space', env.action_space)\n",
    "obs = env.reset()\n",
    "env.render()\n",
    "print('initial observation:', obs)\n",
    "action = env.action_space.sample()\n",
    "obs, r, done, info = env.step(action)\n",
    "print('next observation:', obs)\n",
    "print('reward:', r)\n",
    "print('done:', done)\n",
    "print('info:', info)"
   ]
  },
  {
   "cell_type": "markdown",
   "metadata": {},
   "source": [
    "Now you have defined our environment. Next, you need to define an agent, which will learn through interactions with the environment.\n",
    "\n",
    "ChainerRL provides various agents, each of which implements a deep reinforcement learning algorithm.\n",
    "\n",
    "To use DQN, you need to define a so-called Q-function that receives an observation and returns an value for each action the agent can take. In ChainerRL, you can define your Q-function as `chainer.Link` as below. Note that you need to wrap outputs by `chainerrl.action_value.DiscreteActionValue`."
   ]
  },
  {
   "cell_type": "code",
   "execution_count": null,
   "metadata": {
    "collapsed": false
   },
   "outputs": [],
   "source": [
    "class QFunction(chainer.Chain):\n",
    "\n",
    "    def __init__(self, ndim_obs, n_actions, n_hidden_channels=50):\n",
    "        super().__init__(\n",
    "            l0=L.Linear(ndim_obs, n_hidden_channels),\n",
    "            l1=L.Linear(n_hidden_channels, n_hidden_channels),\n",
    "            l2=L.Linear(n_hidden_channels, n_actions))\n",
    "\n",
    "    def __call__(self, x, test=False):\n",
    "        h = F.tanh(self.l0(x))\n",
    "        h = F.tanh(self.l1(h))\n",
    "        return rl.action_value.DiscreteActionValue(self.l2(h))\n",
    "    \n",
    "ndim_obs = env.observation_space.shape[0]\n",
    "n_actions = env.action_space.n\n",
    "q_func = QFunction(ndim_obs, n_actions)\n",
    "\n",
    "# Uncomment if CUDA is available\n",
    "# q_func.to_gpu(0)"
   ]
  },
  {
   "cell_type": "markdown",
   "metadata": {},
   "source": [
    "You can also use ChainerRL's predefined Q-functions."
   ]
  },
  {
   "cell_type": "code",
   "execution_count": null,
   "metadata": {
    "collapsed": false
   },
   "outputs": [],
   "source": [
    "_q_func = rl.q_functions.FCStateQFunctionWithDiscreteAction(\n",
    "    ndim_obs, n_actions,\n",
    "    n_hidden_layers=2, n_hidden_channels=100)"
   ]
  },
  {
   "cell_type": "markdown",
   "metadata": {},
   "source": [
    "As in Chainer, `chainer.Optimizer` is used to update models."
   ]
  },
  {
   "cell_type": "code",
   "execution_count": null,
   "metadata": {
    "collapsed": true
   },
   "outputs": [],
   "source": [
    "# Use Adam to optimize q_func. eps=1e-2 is for stability.\n",
    "optimizer = chainer.optimizers.Adam(eps=1e-2)\n",
    "optimizer.setup(q_func)"
   ]
  },
  {
   "cell_type": "markdown",
   "metadata": {},
   "source": [
    "A Q-function model and its optimizer are used by a DQN agent. To create a DQN agent, you need to specify a bit more parameters and configurations."
   ]
  },
  {
   "cell_type": "code",
   "execution_count": null,
   "metadata": {
    "collapsed": false
   },
   "outputs": [],
   "source": [
    "# Set the discount factor that discounts future rewards\n",
    "gamma = 0.95\n",
    "\n",
    "# For exploration, epsilon-greedy with epsilon=0.2 is used\n",
    "explorer = rl.explorers.ConstantEpsilonGreedy(\n",
    "    epsilon=0.2, random_action_func=env.action_space.sample)\n",
    "\n",
    "# DQN uses Experience Replay.\n",
    "# Specify a replay buffer and its capacity.\n",
    "replay_buffer = rl.replay_buffer.ReplayBuffer(capacity=10 ** 6)\n",
    "\n",
    "# Since observations from CartPole-v0 is numpy.float64 while\n",
    "# Chainer only accepts numpy.float32 by default, specify\n",
    "# a converter as a feature extractor function phi.\n",
    "phi = lambda x: x.astype(np.float32, copy=False)\n",
    "\n",
    "# Now create an agent that will interact with the environment.\n",
    "agent = rl.agents.DQN(\n",
    "    q_func, optimizer, replay_buffer, gamma, explorer,\n",
    "    replay_start_size=1000, update_frequency=1,\n",
    "    target_update_frequency=100, phi=phi)"
   ]
  },
  {
   "cell_type": "markdown",
   "metadata": {},
   "source": [
    "Now you have an agent and an environment. It's time to start reinforcement learning!\n",
    "\n",
    "In training, use `agent.act_and_train` to select exploratory actions. `agent.stop_episode_and_train` must be called after finishing an episode. You can get training statistics of the agent from via `agent.get_statistics`."
   ]
  },
  {
   "cell_type": "code",
   "execution_count": null,
   "metadata": {
    "collapsed": false
   },
   "outputs": [],
   "source": [
    "n_episodes = 200\n",
    "for i in range(1, n_episodes + 1):\n",
    "    obs = env.reset()\n",
    "    reward = 0\n",
    "    done = False\n",
    "    R = 0  # return (sum of rewards)\n",
    "    t = 0  # time step\n",
    "    while not done and t < 200:\n",
    "        action = agent.act_and_train(obs, reward)\n",
    "        obs, reward, done, _ = env.step(action)\n",
    "        R += reward\n",
    "        t += 1\n",
    "    if i % 10 == 0:\n",
    "        print('episode:', i,\n",
    "              'R:', R,\n",
    "              'statistics:', agent.get_statistics())\n",
    "    agent.stop_episode_and_train(obs, reward, done)"
   ]
  },
  {
   "cell_type": "markdown",
   "metadata": {
    "collapsed": false
   },
   "source": [
    "Now you finished training the agent. How good is the agent now? You can test it by using `agent.act` and `agent.stop_episode` instead. Exploration is not used anymore."
   ]
  },
  {
   "cell_type": "code",
   "execution_count": null,
   "metadata": {
    "collapsed": false
   },
   "outputs": [],
   "source": [
    "env.render(close=True)\n",
    "for i in range(10):\n",
    "    obs = env.reset()\n",
    "    done = False\n",
    "    R = 0\n",
    "    t = 0\n",
    "    while not done and t < 200:\n",
    "        env.render()\n",
    "        action = agent.act(obs)\n",
    "        obs, r, done, _ = env.step(action)\n",
    "        R += r\n",
    "        t += 1\n",
    "    print('test episode:', i, 'R:', R)\n",
    "    agent.stop_episode()"
   ]
  },
  {
   "cell_type": "markdown",
   "metadata": {
    "collapsed": false
   },
   "source": [
    "The only remaining task is to save the agent so that you can reuse it. Simply call `agent.save` to save, `agent.load` to load."
   ]
  },
  {
   "cell_type": "code",
   "execution_count": null,
   "metadata": {
    "collapsed": false
   },
   "outputs": [],
   "source": [
    "# Save an agent to the 'agent' directory\n",
    "agent.save('agent')\n",
    "# Load an agent from the 'agent' directory\n",
    "# agent.load('agent')"
   ]
  },
  {
   "cell_type": "markdown",
   "metadata": {
    "collapsed": false
   },
   "source": [
    "Almost everytime you apply RL to something, it entails training, testing and saving agents. So ChainerRL has utility functions that do these things."
   ]
  },
  {
   "cell_type": "code",
   "execution_count": null,
   "metadata": {
    "collapsed": false
   },
   "outputs": [],
   "source": [
    "# Train agent at env for 10000 steps.\n",
    "# Evaluate it after every 1000 steps.\n",
    "# For each evaluation 10 episodes are sampled.\n",
    "# Save everything to the result dir.\n",
    "rl.experiments.train_agent_with_evaluation(\n",
    "    agent, env, steps=10000, eval_n_runs=10,\n",
    "    eval_frequency=1000, outdir='result')"
   ]
  },
  {
   "cell_type": "markdown",
   "metadata": {
    "collapsed": false
   },
   "source": [
    "That's all of the ChainerRL quickstart guide. Please look into the `examples` directories to learn about ChainerRL. Thank you."
   ]
  }
 ],
 "metadata": {
  "kernelspec": {
   "display_name": "Python 3",
   "language": "python",
   "name": "python3"
  },
  "language_info": {
   "codemirror_mode": {
    "name": "ipython",
    "version": 3
   },
   "file_extension": ".py",
   "mimetype": "text/x-python",
   "name": "python",
   "nbconvert_exporter": "python",
   "pygments_lexer": "ipython3",
   "version": "3.5.1"
  }
 },
 "nbformat": 4,
 "nbformat_minor": 0
}
